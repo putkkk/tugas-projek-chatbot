{
  "nbformat": 4,
  "nbformat_minor": 0,
  "metadata": {
    "colab": {
      "name": "tugas-projek-chatbot.ipynb",
      "provenance": []
    },
    "kernelspec": {
      "name": "python3",
      "display_name": "Python 3"
    },
    "language_info": {
      "name": "python"
    },
    "accelerator": "GPU"
  },
  "cells": [
    {
      "cell_type": "code",
      "metadata": {
        "colab": {
          "base_uri": "https://localhost:8080/"
        },
        "id": "y7nqXReaxlW6",
        "outputId": "d2439c80-4dd1-4da3-f373-37898cad5bd1"
      },
      "source": [
        "!pip install newspaper3k"
      ],
      "execution_count": null,
      "outputs": [
        {
          "output_type": "stream",
          "name": "stdout",
          "text": [
            "Collecting newspaper3k\n",
            "  Downloading newspaper3k-0.2.8-py3-none-any.whl (211 kB)\n",
            "\u001b[?25l\r\u001b[K     |█▌                              | 10 kB 25.3 MB/s eta 0:00:01\r\u001b[K     |███                             | 20 kB 27.2 MB/s eta 0:00:01\r\u001b[K     |████▋                           | 30 kB 17.1 MB/s eta 0:00:01\r\u001b[K     |██████▏                         | 40 kB 14.8 MB/s eta 0:00:01\r\u001b[K     |███████▊                        | 51 kB 5.5 MB/s eta 0:00:01\r\u001b[K     |█████████▎                      | 61 kB 5.9 MB/s eta 0:00:01\r\u001b[K     |██████████▉                     | 71 kB 5.4 MB/s eta 0:00:01\r\u001b[K     |████████████▍                   | 81 kB 6.0 MB/s eta 0:00:01\r\u001b[K     |██████████████                  | 92 kB 6.3 MB/s eta 0:00:01\r\u001b[K     |███████████████▌                | 102 kB 5.3 MB/s eta 0:00:01\r\u001b[K     |█████████████████               | 112 kB 5.3 MB/s eta 0:00:01\r\u001b[K     |██████████████████▋             | 122 kB 5.3 MB/s eta 0:00:01\r\u001b[K     |████████████████████▏           | 133 kB 5.3 MB/s eta 0:00:01\r\u001b[K     |█████████████████████▊          | 143 kB 5.3 MB/s eta 0:00:01\r\u001b[K     |███████████████████████▎        | 153 kB 5.3 MB/s eta 0:00:01\r\u001b[K     |████████████████████████▉       | 163 kB 5.3 MB/s eta 0:00:01\r\u001b[K     |██████████████████████████▍     | 174 kB 5.3 MB/s eta 0:00:01\r\u001b[K     |████████████████████████████    | 184 kB 5.3 MB/s eta 0:00:01\r\u001b[K     |█████████████████████████████▌  | 194 kB 5.3 MB/s eta 0:00:01\r\u001b[K     |███████████████████████████████ | 204 kB 5.3 MB/s eta 0:00:01\r\u001b[K     |████████████████████████████████| 211 kB 5.3 MB/s \n",
            "\u001b[?25hRequirement already satisfied: nltk>=3.2.1 in /usr/local/lib/python3.7/dist-packages (from newspaper3k) (3.2.5)\n",
            "Collecting cssselect>=0.9.2\n",
            "  Downloading cssselect-1.1.0-py2.py3-none-any.whl (16 kB)\n",
            "Requirement already satisfied: python-dateutil>=2.5.3 in /usr/local/lib/python3.7/dist-packages (from newspaper3k) (2.8.2)\n",
            "Requirement already satisfied: PyYAML>=3.11 in /usr/local/lib/python3.7/dist-packages (from newspaper3k) (3.13)\n",
            "Requirement already satisfied: lxml>=3.6.0 in /usr/local/lib/python3.7/dist-packages (from newspaper3k) (4.2.6)\n",
            "Collecting feedparser>=5.2.1\n",
            "  Downloading feedparser-6.0.8-py3-none-any.whl (81 kB)\n",
            "\u001b[K     |████████████████████████████████| 81 kB 8.9 MB/s \n",
            "\u001b[?25hRequirement already satisfied: Pillow>=3.3.0 in /usr/local/lib/python3.7/dist-packages (from newspaper3k) (7.1.2)\n",
            "Requirement already satisfied: beautifulsoup4>=4.4.1 in /usr/local/lib/python3.7/dist-packages (from newspaper3k) (4.6.3)\n",
            "Collecting tldextract>=2.0.1\n",
            "  Downloading tldextract-3.1.2-py2.py3-none-any.whl (87 kB)\n",
            "\u001b[K     |████████████████████████████████| 87 kB 6.1 MB/s \n",
            "\u001b[?25hRequirement already satisfied: requests>=2.10.0 in /usr/local/lib/python3.7/dist-packages (from newspaper3k) (2.23.0)\n",
            "Collecting tinysegmenter==0.3\n",
            "  Downloading tinysegmenter-0.3.tar.gz (16 kB)\n",
            "Collecting feedfinder2>=0.0.4\n",
            "  Downloading feedfinder2-0.0.4.tar.gz (3.3 kB)\n",
            "Collecting jieba3k>=0.35.1\n",
            "  Downloading jieba3k-0.35.1.zip (7.4 MB)\n",
            "\u001b[K     |████████████████████████████████| 7.4 MB 39.9 MB/s \n",
            "\u001b[?25hRequirement already satisfied: six in /usr/local/lib/python3.7/dist-packages (from feedfinder2>=0.0.4->newspaper3k) (1.15.0)\n",
            "Collecting sgmllib3k\n",
            "  Downloading sgmllib3k-1.0.0.tar.gz (5.8 kB)\n",
            "Requirement already satisfied: certifi>=2017.4.17 in /usr/local/lib/python3.7/dist-packages (from requests>=2.10.0->newspaper3k) (2021.10.8)\n",
            "Requirement already satisfied: chardet<4,>=3.0.2 in /usr/local/lib/python3.7/dist-packages (from requests>=2.10.0->newspaper3k) (3.0.4)\n",
            "Requirement already satisfied: urllib3!=1.25.0,!=1.25.1,<1.26,>=1.21.1 in /usr/local/lib/python3.7/dist-packages (from requests>=2.10.0->newspaper3k) (1.24.3)\n",
            "Requirement already satisfied: idna<3,>=2.5 in /usr/local/lib/python3.7/dist-packages (from requests>=2.10.0->newspaper3k) (2.10)\n",
            "Collecting requests-file>=1.4\n",
            "  Downloading requests_file-1.5.1-py2.py3-none-any.whl (3.7 kB)\n",
            "Requirement already satisfied: filelock>=3.0.8 in /usr/local/lib/python3.7/dist-packages (from tldextract>=2.0.1->newspaper3k) (3.3.2)\n",
            "Building wheels for collected packages: tinysegmenter, feedfinder2, jieba3k, sgmllib3k\n",
            "  Building wheel for tinysegmenter (setup.py) ... \u001b[?25l\u001b[?25hdone\n",
            "  Created wheel for tinysegmenter: filename=tinysegmenter-0.3-py3-none-any.whl size=13552 sha256=cad3da8d021a4b84c021339ef236ba9eb475ec5fa6daedead2e81e02068afbe7\n",
            "  Stored in directory: /root/.cache/pip/wheels/df/67/41/faca10fa501ca010be41b49d40360c2959e1c4f09bcbfa37fa\n",
            "  Building wheel for feedfinder2 (setup.py) ... \u001b[?25l\u001b[?25hdone\n",
            "  Created wheel for feedfinder2: filename=feedfinder2-0.0.4-py3-none-any.whl size=3356 sha256=31039a2f1b5d49a7a0263e12acc7ce56f7585b9d3429ba9827674627e0397e19\n",
            "  Stored in directory: /root/.cache/pip/wheels/7f/d4/8f/6e2ca54744c9d7292d88ddb8d42876bcdab5e6d84a21c10346\n",
            "  Building wheel for jieba3k (setup.py) ... \u001b[?25l\u001b[?25hdone\n",
            "  Created wheel for jieba3k: filename=jieba3k-0.35.1-py3-none-any.whl size=7398405 sha256=699be988ad1525bff2761766e326cfde95390654f13657cd37ade9adef895492\n",
            "  Stored in directory: /root/.cache/pip/wheels/4c/91/46/3c208287b726df325a5979574324878b679116e4baae1af3c3\n",
            "  Building wheel for sgmllib3k (setup.py) ... \u001b[?25l\u001b[?25hdone\n",
            "  Created wheel for sgmllib3k: filename=sgmllib3k-1.0.0-py3-none-any.whl size=6065 sha256=6917a82097a565ec69c6b568e6a8d8401ea825a7764e641dfc108cbdebc8cb05\n",
            "  Stored in directory: /root/.cache/pip/wheels/73/ad/a4/0dff4a6ef231fc0dfa12ffbac2a36cebfdddfe059f50e019aa\n",
            "Successfully built tinysegmenter feedfinder2 jieba3k sgmllib3k\n",
            "Installing collected packages: sgmllib3k, requests-file, tldextract, tinysegmenter, jieba3k, feedparser, feedfinder2, cssselect, newspaper3k\n",
            "Successfully installed cssselect-1.1.0 feedfinder2-0.0.4 feedparser-6.0.8 jieba3k-0.35.1 newspaper3k-0.2.8 requests-file-1.5.1 sgmllib3k-1.0.0 tinysegmenter-0.3 tldextract-3.1.2\n"
          ]
        }
      ]
    },
    {
      "cell_type": "code",
      "metadata": {
        "id": "PUwGrkFKxt16"
      },
      "source": [
        "# Import library\n",
        "from newspaper import Article\n",
        "import random\n",
        "import nltk\n",
        "import string\n",
        "from sklearn.feature_extraction.text import CountVectorizer\n",
        "from sklearn.metrics.pairwise import cosine_similarity\n",
        "import numpy as np\n",
        "import warnings\n",
        "warnings.filterwarnings('ignore')"
      ],
      "execution_count": null,
      "outputs": []
    },
    {
      "cell_type": "code",
      "metadata": {
        "colab": {
          "base_uri": "https://localhost:8080/"
        },
        "id": "EpY7ouxZxuGX",
        "outputId": "01a878c5-730c-4244-addc-a7553c653ca2"
      },
      "source": [
        "nltk.download('punkt', quiet=True)"
      ],
      "execution_count": null,
      "outputs": [
        {
          "output_type": "execute_result",
          "data": {
            "text/plain": [
              "True"
            ]
          },
          "metadata": {},
          "execution_count": 3
        }
      ]
    },
    {
      "cell_type": "code",
      "metadata": {
        "colab": {
          "base_uri": "https://localhost:8080/"
        },
        "id": "bxNayl6jxuTD",
        "outputId": "401f7956-8b78-4eab-8690-0e6663255f89"
      },
      "source": [
        "article = Article('https://www.biofarma.co.id/id/berita-terbaru/detail/jenis-vaksin-covid-19-apakah-yang-terbaik')\n",
        "article.download()\n",
        "article.parse()\n",
        "article.nlp()\n",
        "corpus = article.text\n",
        "print(corpus)"
      ],
      "execution_count": null,
      "outputs": [
        {
          "output_type": "stream",
          "name": "stdout",
          "text": [
            "Sampai saat ini negara – negara di dunia ini masih terus menggencarkan program vaksinasi Covid 19 sebagai upaya terbebas dari pandemic covid - 19. Di Indonesia sendiri program vaksinasi Covid - 19 pertama kali dilakukan oleh pemerintah pada 13 Januari 2020 di Istana Negara. Orang yang pertama kali menerima suntikan vaksin buatan Sinovac adalah Presiden Joko Widodo. Kemudian hingga saaat ini, vaksinasi covid 19 diberikan secara bertahap kepada masyarakat.\n",
            "\n",
            "Mengapa vaksin covid 19 beragam?\n",
            "\n",
            "Sampai saat ini, di dunia, tidak ada satu pun produsen vaksin yang mampu menyediakan vaksin covid – 19 dalam jumlah banyak dan dalam satu waktu sekaligus. Oleh karenanya di Indonesia sendiri pun terdapat berbagai jenis vaksi covid – 19. Pemerintah Indonesia mendapatkan vaksin melalui 3 cara yaitu melalui multilateral, diplomasi bilateral dan yang terakhir dengan cara produksi mandiri.\n",
            "\n",
            "Berbagai upaya dilakukan pemerintah untuk mendapatkan vaksin covid – 19 agar masyarakat dapat segera mendapatkan vaksin. Hal ini guna mengejar kekebalan kelompok (Herd Immunity). Untuk mencapai kekebalan kelompok, maka 70% populasi masyarakat di Indonesia harus mendapatkan vaksinasi lengkap.\n",
            "\n",
            "Jenis - jenis vaksin covid - 19 memiliki kualitas yang sama? Bagaimana efek sampingnya?\n",
            "\n",
            "Sampai dengan 6 Oktober 2021, terdapat 10 jenis vaksin covid – 19 telah mendapatkan Izin Penggunaan Darurat/ Emergency Use Authorization (EUA) dari Badan Pengawasan Obat dan Makanan atau BPOM, yaitu terdiri dari Sinovac, Bio Farma, Sinopharm, Moderna, Astra Zeneca, Pfizer, Jhonson & Jhonson, Sputnik V, Cansino Bio, dan JBio. Beberapa vaksin tersebut juga ada yang sudah mendapatkan persetujuan Emergency Use Listing (EUL) dari WHO. BPOM telah menegaskan bahwa semua jenis vaksin Covid-19 yang mendapat EUA telah melalui pengkajian yang intensif terhadap keamanan, khasiat, dan juga mutunya.\n",
            "\n",
            "Masyarakat yang telah mendapatkan vaksinasi covid-19 merasakan efek samping yang beragam, namun bahkan ada yang merasa biasa saja setelah divaksin. Adapun efek samping vaksin Sinovac dengan derajat berat seperti sakit kepala, gangguan di kulit atau diare yang dilaporkan hanya sekitar 0,1 sampai dengan 1 persen. Selain itu rata- rata efek samping yang muncul seperti nyeri, kemerahan, gatal, pembengkakan, kelelahan, sakit kepala, meriang, mual dan diare.\n",
            "\n",
            "Efek samping vaksin tidak berlangsung lama, biasanya berlangsung 1 -2 hari. Kemudian tubuh akan terasa normal kembali . Sampai saat ini vaksin masih dinilai sebagai upaya paling efektif dalam pencegahan penyakit menular dan berbahaya. Vaksin covid – 19 dianggap menjadi solusi yang paling tepat selain untuk melindungi masyarakat, tetapi juga memulihkan kondisi sosial dan ekonomi negara yang terkena dampak pandemi. Vaksin yang terbaik adalah vaksin yang tersedia saat ini. Oleh karena itu mari jangan ragu dan segera vaksinasi covid - 19. Mencegah lebih baik daripada mengobati.\n",
            "\n",
            "YM\n"
          ]
        }
      ]
    },
    {
      "cell_type": "code",
      "metadata": {
        "colab": {
          "base_uri": "https://localhost:8080/"
        },
        "id": "yMcVTinLx4PD",
        "outputId": "5db4eefa-5160-4a91-ddf6-b7ff53afa06a"
      },
      "source": [
        "# Tokenization\n",
        "text = corpus\n",
        "sentence_list = nltk.sent_tokenize(text) #A list of senetences\n",
        "\n",
        "# Print the list of sentences\n",
        "print(sentence_list)"
      ],
      "execution_count": null,
      "outputs": [
        {
          "output_type": "stream",
          "name": "stdout",
          "text": [
            "['Sampai saat ini negara – negara di dunia ini masih terus menggencarkan program vaksinasi Covid 19 sebagai upaya terbebas dari pandemic covid - 19.', 'Di Indonesia sendiri program vaksinasi Covid - 19 pertama kali dilakukan oleh pemerintah pada 13 Januari 2020 di Istana Negara.', 'Orang yang pertama kali menerima suntikan vaksin buatan Sinovac adalah Presiden Joko Widodo.', 'Kemudian hingga saaat ini, vaksinasi covid 19 diberikan secara bertahap kepada masyarakat.', 'Mengapa vaksin covid 19 beragam?', 'Sampai saat ini, di dunia, tidak ada satu pun produsen vaksin yang mampu menyediakan vaksin covid – 19 dalam jumlah banyak dan dalam satu waktu sekaligus.', 'Oleh karenanya di Indonesia sendiri pun terdapat berbagai jenis vaksi covid – 19.', 'Pemerintah Indonesia mendapatkan vaksin melalui 3 cara yaitu melalui multilateral, diplomasi bilateral dan yang terakhir dengan cara produksi mandiri.', 'Berbagai upaya dilakukan pemerintah untuk mendapatkan vaksin covid – 19 agar masyarakat dapat segera mendapatkan vaksin.', 'Hal ini guna mengejar kekebalan kelompok (Herd Immunity).', 'Untuk mencapai kekebalan kelompok, maka 70% populasi masyarakat di Indonesia harus mendapatkan vaksinasi lengkap.', 'Jenis - jenis vaksin covid - 19 memiliki kualitas yang sama?', 'Bagaimana efek sampingnya?', 'Sampai dengan 6 Oktober 2021, terdapat 10 jenis vaksin covid – 19 telah mendapatkan Izin Penggunaan Darurat/ Emergency Use Authorization (EUA) dari Badan Pengawasan Obat dan Makanan atau BPOM, yaitu terdiri dari Sinovac, Bio Farma, Sinopharm, Moderna, Astra Zeneca, Pfizer, Jhonson & Jhonson, Sputnik V, Cansino Bio, dan JBio.', 'Beberapa vaksin tersebut juga ada yang sudah mendapatkan persetujuan Emergency Use Listing (EUL) dari WHO.', 'BPOM telah menegaskan bahwa semua jenis vaksin Covid-19 yang mendapat EUA telah melalui pengkajian yang intensif terhadap keamanan, khasiat, dan juga mutunya.', 'Masyarakat yang telah mendapatkan vaksinasi covid-19 merasakan efek samping yang beragam, namun bahkan ada yang merasa biasa saja setelah divaksin.', 'Adapun efek samping vaksin Sinovac dengan derajat berat seperti sakit kepala, gangguan di kulit atau diare yang dilaporkan hanya sekitar 0,1 sampai dengan 1 persen.', 'Selain itu rata- rata efek samping yang muncul seperti nyeri, kemerahan, gatal, pembengkakan, kelelahan, sakit kepala, meriang, mual dan diare.', 'Efek samping vaksin tidak berlangsung lama, biasanya berlangsung 1 -2 hari.', 'Kemudian tubuh akan terasa normal kembali .', 'Sampai saat ini vaksin masih dinilai sebagai upaya paling efektif dalam pencegahan penyakit menular dan berbahaya.', 'Vaksin covid – 19 dianggap menjadi solusi yang paling tepat selain untuk melindungi masyarakat, tetapi juga memulihkan kondisi sosial dan ekonomi negara yang terkena dampak pandemi.', 'Vaksin yang terbaik adalah vaksin yang tersedia saat ini.', 'Oleh karena itu mari jangan ragu dan segera vaksinasi covid - 19.', 'Mencegah lebih baik daripada mengobati.', 'YM']\n"
          ]
        }
      ]
    },
    {
      "cell_type": "code",
      "metadata": {
        "id": "pcxss5H0yFN8"
      },
      "source": [
        "#a function to return a random greeting response to a users greeting\n",
        "def greeting_response(text):\n",
        "    text = text.lower()\n",
        "    \n",
        "    #Bots greeting respone\n",
        "    bot_greetings = ['howdy','hi','hello','hola']\n",
        "    \n",
        "    #Users greeting\n",
        "    user_greetings = ['hi','hey','hello','greetings','wassup']\n",
        "    \n",
        "    for word in text.split():\n",
        "        if word in user_greetings:\n",
        "            return random.choice(bot_greetings)\n",
        "        \n",
        "    #Random response to greeting\n",
        "    def gratitude_response(text):\n",
        "        text=text.lower()"
      ],
      "execution_count": null,
      "outputs": []
    },
    {
      "cell_type": "code",
      "metadata": {
        "id": "0f-duplmyMJT"
      },
      "source": [
        " def index_sort(list_var):\n",
        "    length = len(list_var)\n",
        "    list_index = list(range(0, length))\n",
        "    \n",
        "    x = list_var        \n",
        "    for i in range(length):\n",
        "        for j in range(length):\n",
        "            if x[list_index[i]] > x[list_index[j]]:\n",
        "                #swap\n",
        "                temp = list_index[i]\n",
        "                list_index[i] = list_index[j]\n",
        "                list_index[j] = temp\n",
        "                \n",
        "    return list_index"
      ],
      "execution_count": null,
      "outputs": []
    },
    {
      "cell_type": "code",
      "metadata": {
        "id": "rDqRhF8RyMTD"
      },
      "source": [
        "# Creat Bots Response\n",
        "def bot_response(user_input):\n",
        "    user_input=user_input.lower()\n",
        "    sentence_list.append(user_input)\n",
        "    bot_response= ''\n",
        "    cm=CountVectorizer().fit_transform(sentence_list)\n",
        "    similarity_scores=cosine_similarity(cm[-1],cm)\n",
        "    similarity_scores_list=similarity_scores.flatten()\n",
        "    index=index_sort(similarity_scores_list)\n",
        "    index=index[1:]\n",
        "    response_flag=0\n",
        "    \n",
        "    j=0\n",
        "    for i in range(len(index)):\n",
        "        if similarity_scores_list[index[i]]>0.0:\n",
        "            bot_response=bot_response+' '+sentence_list[index[i]]\n",
        "            response_flag=1\n",
        "            j=j+1\n",
        "        if j>2:\n",
        "            break\n",
        "\n",
        "        if response_flag==0:\n",
        "            bot_response=bot_response+\" \"+\"I apologize, I dont understand\"\n",
        "\n",
        "        sentence_list.remove(user_input) \n",
        "\n",
        "        return bot_response"
      ],
      "execution_count": null,
      "outputs": []
    },
    {
      "cell_type": "code",
      "metadata": {
        "colab": {
          "base_uri": "https://localhost:8080/"
        },
        "id": "-hqf5uZcyVrU",
        "outputId": "3e09d1bc-f4f6-4916-b72a-6e26aac04e4d"
      },
      "source": [
        "#Start Chat\n",
        "print(\"info bot: halo mau nanya apa?\")\n",
        "\n",
        "exit_list=['exit','bye','see you later','quit']\n",
        "\n",
        "while(True):\n",
        "    user_input=input()\n",
        "    if user_input.lower() in exit_list:\n",
        "        print('info bot: Bye Bye See you later')\n",
        "        break\n",
        "    else:\n",
        "        if greeting_response(user_input)!= None:\n",
        "            print('info bot: '+ greeting_response(user_input))\n",
        "        else:\n",
        "            print('info bot: '+ bot_response(user_input))"
      ],
      "execution_count": null,
      "outputs": [
        {
          "output_type": "stream",
          "name": "stdout",
          "text": [
            "info bot: halo mau nanya apa?\n",
            "vaksin\n",
            "info bot:  Vaksin yang terbaik adalah vaksin yang tersedia saat ini.\n",
            "jenis vaksin\n",
            "info bot:  Jenis - jenis vaksin covid - 19 memiliki kualitas yang sama?\n",
            "ada vaksin apa saja?\n",
            "info bot:  Vaksin yang terbaik adalah vaksin yang tersedia saat ini.\n",
            "bye\n",
            "info bot: Bye Bye See you later\n"
          ]
        }
      ]
    }
  ]
}